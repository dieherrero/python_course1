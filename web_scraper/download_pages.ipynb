{
 "cells": [
  {
   "cell_type": "code",
   "execution_count": 1,
   "metadata": {},
   "outputs": [],
   "source": [
    "import requests\n",
    "import pprint\n",
    "\n",
    "respuesta = requests.get(\"https://covid19.isciii.es/\")\n",
    "#  .get descarga u obtiene l pagina, puede descargar pdfs\n",
    "#  respuesta.content da el contenido \n",
    "# si es binario, podemos pasarlo a html(o lo que sea)  y ver codigo usando: \n",
    "#  html = respuesta.content.decode(\"UTF-8\")"
   ]
  },
  {
   "cell_type": "code",
   "execution_count": 2,
   "metadata": {},
   "outputs": [],
   "source": [
    "#guardar codigo\n",
    "html = respuesta.content.decode(\"UTF-8\")\n",
    "text_file = open(\"covid19.html\", 'w+')\n",
    "text_file.write(html)\n",
    "text_file.close()\n"
   ]
  },
  {
   "cell_type": "code",
   "execution_count": 3,
   "metadata": {},
   "outputs": [
    {
     "name": "stdout",
     "output_type": "stream",
     "text": [
      "https://www.diputacionavila.es/bops/2020/21-07-2020.pdf\n"
     ]
    }
   ],
   "source": [
    "import datetime as dt\n",
    "import requests\n",
    "\n",
    "base_url=\"https://www.diputacionavila.es/bops/2020/\"\n",
    "\n",
    "fecha = dt.datetime.now()\n",
    "\n",
    "str_fecha = fecha.strftime(\"%d-%m-%Y\")\n",
    "\n",
    "url = base_url + str_fecha + '.pdf'\n",
    "print(url)"
   ]
  },
  {
   "cell_type": "code",
   "execution_count": 4,
   "metadata": {},
   "outputs": [],
   "source": [
    "boletin_av = requests.get(url)"
   ]
  },
  {
   "cell_type": "code",
   "execution_count": 10,
   "metadata": {},
   "outputs": [
    {
     "name": "stdout",
     "output_type": "stream",
     "text": [
      "Cabeceras recibidas: {'Date': 'Tue, 21 Jul 2020 15:53:59 GMT', 'Server': 'Apache', 'Strict-Transport-Security': 'max-age=31536000;', 'Last-Modified': 'Tue, 21 Jul 2020 06:09:04 GMT', 'ETag': '\"84d8f-5aaed75cea000\"', 'Accept-Ranges': 'bytes', 'Content-Length': '544143', 'Cache-Control': 'max-age=2556904', 'Expires': 'Thu, 20 Aug 2020 06:09:04 GMT', 'Keep-Alive': 'timeout=5, max=100', 'Connection': 'Keep-Alive', 'Content-Type': 'application/pdf'}\n",
      "\n",
      "Tipo de información descargada: application/pdf\n",
      "\n",
      "Tamaño descargado: 544143 bytes\n",
      "\n"
     ]
    },
    {
     "ename": "KeyError",
     "evalue": "'content-disposition'",
     "output_type": "error",
     "traceback": [
      "\u001b[0;31m---------------------------------------------------------------------------\u001b[0m",
      "\u001b[0;31mKeyError\u001b[0m                                  Traceback (most recent call last)",
      "\u001b[0;32m<ipython-input-10-9ed0e82543c0>\u001b[0m in \u001b[0;36m<module>\u001b[0;34m\u001b[0m\n\u001b[1;32m     28\u001b[0m \u001b[0;32mif\u001b[0m \u001b[0mtamanioDescargado\u001b[0m \u001b[0;34m==\u001b[0m \u001b[0;36m0\u001b[0m\u001b[0;34m:\u001b[0m\u001b[0;34m\u001b[0m\u001b[0;34m\u001b[0m\u001b[0m\n\u001b[1;32m     29\u001b[0m     \u001b[0mprint\u001b[0m\u001b[0;34m(\u001b[0m\u001b[0;34m\"En la fecha indicada no hay BOP (o es una fecha incorrecta).\\n\"\u001b[0m\u001b[0;34m)\u001b[0m\u001b[0;34m\u001b[0m\u001b[0;34m\u001b[0m\u001b[0m\n\u001b[0;32m---> 30\u001b[0;31m \u001b[0;32melif\u001b[0m \u001b[0;32mnot\u001b[0m \u001b[0mboletin_av\u001b[0m\u001b[0;34m.\u001b[0m\u001b[0mheaders\u001b[0m\u001b[0;34m[\u001b[0m\u001b[0;34m'Content-disposition'\u001b[0m\u001b[0;34m]\u001b[0m\u001b[0;34m:\u001b[0m\u001b[0;34m\u001b[0m\u001b[0;34m\u001b[0m\u001b[0m\n\u001b[0m\u001b[1;32m     31\u001b[0m     \u001b[0mfilename\u001b[0m \u001b[0;34m=\u001b[0m \u001b[0;34m'boletin_av'\u001b[0m \u001b[0;34m+\u001b[0m \u001b[0mfecha\u001b[0m \u001b[0;34m+\u001b[0m \u001b[0;34m'.pdf'\u001b[0m\u001b[0;34m\u001b[0m\u001b[0;34m\u001b[0m\u001b[0m\n\u001b[1;32m     32\u001b[0m     \u001b[0mmyfile\u001b[0m \u001b[0;34m=\u001b[0m \u001b[0mopen\u001b[0m\u001b[0;34m(\u001b[0m\u001b[0mfilename\u001b[0m\u001b[0;34m,\u001b[0m\u001b[0;34m'wb'\u001b[0m\u001b[0;34m)\u001b[0m\u001b[0;34m\u001b[0m\u001b[0;34m\u001b[0m\u001b[0m\n",
      "\u001b[0;32m~/anaconda3/lib/python3.7/site-packages/requests/structures.py\u001b[0m in \u001b[0;36m__getitem__\u001b[0;34m(self, key)\u001b[0m\n\u001b[1;32m     52\u001b[0m \u001b[0;34m\u001b[0m\u001b[0m\n\u001b[1;32m     53\u001b[0m     \u001b[0;32mdef\u001b[0m \u001b[0m__getitem__\u001b[0m\u001b[0;34m(\u001b[0m\u001b[0mself\u001b[0m\u001b[0;34m,\u001b[0m \u001b[0mkey\u001b[0m\u001b[0;34m)\u001b[0m\u001b[0;34m:\u001b[0m\u001b[0;34m\u001b[0m\u001b[0;34m\u001b[0m\u001b[0m\n\u001b[0;32m---> 54\u001b[0;31m         \u001b[0;32mreturn\u001b[0m \u001b[0mself\u001b[0m\u001b[0;34m.\u001b[0m\u001b[0m_store\u001b[0m\u001b[0;34m[\u001b[0m\u001b[0mkey\u001b[0m\u001b[0;34m.\u001b[0m\u001b[0mlower\u001b[0m\u001b[0;34m(\u001b[0m\u001b[0;34m)\u001b[0m\u001b[0;34m]\u001b[0m\u001b[0;34m[\u001b[0m\u001b[0;36m1\u001b[0m\u001b[0;34m]\u001b[0m\u001b[0;34m\u001b[0m\u001b[0;34m\u001b[0m\u001b[0m\n\u001b[0m\u001b[1;32m     55\u001b[0m \u001b[0;34m\u001b[0m\u001b[0m\n\u001b[1;32m     56\u001b[0m     \u001b[0;32mdef\u001b[0m \u001b[0m__delitem__\u001b[0m\u001b[0;34m(\u001b[0m\u001b[0mself\u001b[0m\u001b[0;34m,\u001b[0m \u001b[0mkey\u001b[0m\u001b[0;34m)\u001b[0m\u001b[0;34m:\u001b[0m\u001b[0;34m\u001b[0m\u001b[0;34m\u001b[0m\u001b[0m\n",
      "\u001b[0;31mKeyError\u001b[0m: 'content-disposition'"
     ]
    }
   ],
   "source": [
    "print(\"Cabeceras recibidas: \" + str(boletin_av.headers) + \"\\n\") # Inspeccionamos las cabeceras que hemos recibido\n",
    "\n",
    "# Nos interesa ver que \"Content-Type\" ya nos indica que es un fichero que puede abrirse con una aplicación \n",
    "# que maneje PDFs\n",
    "# Además en alguna ocasión podemos recibir que el tamaño del contenido descargado: \"Content-Length\"\n",
    "\n",
    "print(\"Tipo de información descargada: \" + boletin_av.headers['Content-Type'] + \"\\n\")\n",
    "\n",
    "tamanioDescargado = 0\n",
    "if \"Content-Length\" in respuesta.headers:\n",
    "    tamanioDescargado = int(boletin_av.headers['Content-Length'])\n",
    "else:\n",
    "    tamanioDescargado = len(boletin_av.content)  # Si no nos lo dice la cabecera podemos mirar el tamaño del\n",
    "                                                # contenido descargado\n",
    "        \n",
    "    \n",
    "print(\"Tamaño descargado: \" + str(tamanioDescargado) + \" bytes\\n\")\n",
    "\n",
    "# Además nos damos cuenta que la aplicación web nos sugiere un nombre para el fichero que vamos a descargar:\n",
    "\n",
    "#  print(\"Campo que nos sugiere el nombre del fichero descargado: \" + boletin_av.headers['Content-disposition'] + \"\\n\")\n",
    "\n",
    "# En la aplicación web que sirve los BOP de Granada siempre devuelve una respuesta válida (código 200)\n",
    "# aunque no exista el PDF de la fecha pedida. En una aplicación bien hecha devolvería un codigo de error distinto\n",
    "# (NOT FOUND o similar). En cualquier caso nosotros nos hemos dado cuenta que si el contenido devuelto es 0 bytes\n",
    "# es que ese día no hay BOP.\n",
    "\n",
    "if tamanioDescargado == 0:\n",
    "    print(\"En la fecha indicada no hay BOP (o es una fecha incorrecta).\\n\")\n",
    "elif not boletin_av.headers['Content-disposition']:\n",
    "    filename = 'boletin_av' + fecha + '.pdf'\n",
    "    myfile = open(filename,'wb')\n",
    "    myfile.write(boletin_av.content)\n",
    "    myfile.close()\n",
    "    \n",
    "    print(\"Guardado manual. Fichero \" + filename + \" grabado en disco.\\n\")\n",
    "else:\n",
    "    filename = boletin_av.headers['Content-disposition'][20:] # Saco el nombre del fichero truncando la cadena\n",
    "    \n",
    "    myfile = open(filename,'wb')\n",
    "    myfile.write(boletin_av.content)\n",
    "    myfile.close()\n",
    "    \n",
    "    print(\"Fichero \" + filename + \" grabado en disco.\\n\")"
   ]
  },
  {
   "cell_type": "code",
   "execution_count": null,
   "metadata": {},
   "outputs": [],
   "source": []
  },
  {
   "cell_type": "code",
   "execution_count": null,
   "metadata": {},
   "outputs": [],
   "source": []
  }
 ],
 "metadata": {
  "kernelspec": {
   "display_name": "Python 3",
   "language": "python",
   "name": "python3"
  },
  "language_info": {
   "codemirror_mode": {
    "name": "ipython",
    "version": 3
   },
   "file_extension": ".py",
   "mimetype": "text/x-python",
   "name": "python",
   "nbconvert_exporter": "python",
   "pygments_lexer": "ipython3",
   "version": "3.7.6"
  }
 },
 "nbformat": 4,
 "nbformat_minor": 4
}
